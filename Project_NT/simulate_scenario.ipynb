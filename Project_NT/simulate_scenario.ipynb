{
 "cells": [
  {
   "cell_type": "code",
   "execution_count": 1,
   "id": "77da495c-f859-4aa2-b155-b67062541395",
   "metadata": {},
   "outputs": [],
   "source": [
    "import numpy as  np\n"
   ]
  },
  {
   "cell_type": "code",
   "execution_count": 5,
   "id": "5d5a6200-3e3b-4d24-b9de-1e1c3a89cb95",
   "metadata": {},
   "outputs": [],
   "source": [
    "class Scenario: \n",
    "\n",
    "    def __init__(self,mic_a, mic_b, mic_c,sp1 ,sp2):\n",
    "        self.mic_a = mic_a\n",
    "        self.mic_b = mic_b\n",
    "        self.mic_c = mic_c\n",
    "        self.speaker_1 = sp1\n",
    "        self.speaker_2 = sp2\n",
    "        self.sp1_distances = None\n",
    "        self.sp2_distances = None\n",
    "        self.sp1_tdoa = None\n",
    "        self.sp2_tdoa = None\n",
    "        self.sp1_vectors=[]\n",
    "        self.sp2_vectors=[]\n",
    "        self.sound_c = 343\n",
    "\n",
    "    def calc_disatances(self):\n",
    "        \n",
    "        self.sp1_distances = [np.linalg.norm(self.mic_a - self.speaker_1), np.linalg.norm(self.mic_b - self.speaker_1), np.linalg.norm(self.mic_c - self.speaker_1) ]\n",
    "        self.sp2_distances = [np.linalg.norm(self.mic_a - self.speaker_2), np.linalg.norm(self.mic_b - self.speaker_2), np.linalg.norm(self.mic_c - self.speaker_2) ]       \n",
    "\n",
    "\n",
    "    def calca_TDOA(self):\n",
    "        # first find the time of arrivale for each mic for speaker 1\n",
    "        T_p1_m1 = self.sp1_distances[0]/self.sound_c\n",
    "        T_p1_m2 = self.sp1_distances[1]/self.sound_c\n",
    "        T_p1_m3 = self.sp1_distances[2]/self.sound_c\n",
    "        # TDOA = [T12,T13,T23] then calculate the TDOA of  speaker 1\n",
    "        self.sp1_tdoa = np.abs(np.array((T_p1_m1 - T_p1_m2, T_p1_m1 - T_p1_m3, T_p1_m2 - T_p1_m3)))\n",
    "        \n",
    "        # find the TOA for each mic for speaker 2\n",
    "        T_p2_m1 = self.sp2_distances[0]/self.sound_c\n",
    "        T_p2_m2 = self.sp2_distances[1]/self.sound_c\n",
    "        T_p2_m3 = self.sp2_distances[2]/self.sound_c\n",
    "        # TDOA =[T12,T13,T23] calculate the TDOA of speaker2\n",
    "        self.sp2_tdoa = np.abs(np.array((T_p2_m1 - T_p2_m2, T_p2_m1 - T_p2_m3, T_p2_m2 - T_p2_m3)))\n",
    "\n",
    "    def generate_vectors(self,speaker_order_duration):\n",
    "        ### speaker_order_duration should be a list -->example := [('P1',200),('P2',300),('P1',400)]\n",
    "        \n",
    "        for ex in speaker_order_duration:\n",
    "            \n",
    "            samples = (ex[1]*16)  # 16 because duration in ms\n",
    "            num_of_chunks = int(samples/1024) #  each chunk is 1024 \n",
    "\n",
    "            for j in range(num_of_chunks):\n",
    "                if ex[0] == 'P1':\n",
    "                    noise = np.random.normal(0,0.0001, self.sp1_tdoa.shape)\n",
    "                    self.sp1_vectors.append(sc1.sp1_tdoa + noise)\n",
    "                else:\n",
    "                    noise = np.random.normal(0,0.0001, self.sp1_tdoa.shape)\n",
    "                    self.sp2_vectors.append(sc1.sp2_tdoa + noise)\n",
    "                \n",
    "        \n",
    "        \n",
    "    \n",
    "        "
   ]
  },
  {
   "cell_type": "code",
   "execution_count": 6,
   "id": "a47e31c8-d9ab-486f-9a63-0d5b4570ceb6",
   "metadata": {},
   "outputs": [],
   "source": [
    "sc1 = Scenario(mic_a=np.array((0,0)), mic_b=np.array((-1,1)), mic_c=np.array((1,-1)), sp1=np.array((-2,2)), sp2=np.array((2,-2)))"
   ]
  },
  {
   "cell_type": "code",
   "execution_count": 7,
   "id": "46fa96a8-064d-4d3c-add7-1e5725acda7b",
   "metadata": {},
   "outputs": [
    {
     "name": "stdout",
     "output_type": "stream",
     "text": [
      "sp1 : [0.00412307 0.00412307 0.00824614] sp2:[0.00412307 0.00412307 0.00824614]\n"
     ]
    },
    {
     "data": {
      "text/plain": [
       "9"
      ]
     },
     "execution_count": 7,
     "metadata": {},
     "output_type": "execute_result"
    }
   ],
   "source": [
    "sc1.calc_disatances()\n",
    "sc1.calca_TDOA()\n",
    "print(f'sp1 : {sc1.sp1_tdoa} sp2:{sc1.sp2_tdoa}')\n",
    "sc1.generate_vectors([('P1',200),('P2',300),('P1',400)])\n",
    "len(sc1.sp1_vectors)"
   ]
  },
  {
   "cell_type": "code",
   "execution_count": null,
   "id": "ed34dfd3-493e-48b6-99d2-d3649f819d01",
   "metadata": {},
   "outputs": [],
   "source": []
  }
 ],
 "metadata": {
  "kernelspec": {
   "display_name": "Python 3 (ipykernel)",
   "language": "python",
   "name": "python3"
  },
  "language_info": {
   "codemirror_mode": {
    "name": "ipython",
    "version": 3
   },
   "file_extension": ".py",
   "mimetype": "text/x-python",
   "name": "python",
   "nbconvert_exporter": "python",
   "pygments_lexer": "ipython3",
   "version": "3.10.12"
  }
 },
 "nbformat": 4,
 "nbformat_minor": 5
}
